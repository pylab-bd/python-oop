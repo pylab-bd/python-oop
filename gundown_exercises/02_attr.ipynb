{
 "cells": [
  {
   "cell_type": "code",
   "execution_count": 1,
   "id": "0ea23b89-871c-4b8d-a9ec-15920f3d41d8",
   "metadata": {},
   "outputs": [
    {
     "name": "stdout",
     "output_type": "stream",
     "text": [
      "In the Lobby\n",
      "Enter the gun U want to buy\n"
     ]
    },
    {
     "name": "stdin",
     "output_type": "stream",
     "text": [
      " M5\n"
     ]
    },
    {
     "name": "stdout",
     "output_type": "stream",
     "text": [
      "waiting for a match\n",
      "You have taken shots ur health is reduced\n",
      "YOur health is  80\n"
     ]
    }
   ],
   "source": [
    "class CSGO:\n",
    "      \"\"\"\n",
    "      THis is CSGo class About Attributes\n",
    "      \"\"\"\n",
    "      def __init__(self):\n",
    "            self.health=100\n",
    "            self.income=8000\n",
    "            print(\"In the Lobby\")\n",
    "      def openInventory(self):\n",
    "            print(\"Enter the gun U want to buy\")\n",
    "            self.gun=input()\n",
    "      def EnterComp(self):\n",
    "            print(\"waiting for a match\")\n",
    "      def TakingShots(self):\n",
    "            print(\"You have taken shots ur health is reduced\")\n",
    "            print(\"YOur health is \",self.health-20)\n",
    "\n",
    "\n",
    "\n",
    "# userdefined attributes\n",
    "\n",
    "player1=CSGO()\n",
    "player1.openInventory()\n",
    "player1.EnterComp()\n",
    "player1.TakingShots()\n"
   ]
  },
  {
   "cell_type": "code",
   "execution_count": 2,
   "id": "518cd6ef-319a-4e09-a7e3-37f91b06d7f9",
   "metadata": {},
   "outputs": [
    {
     "data": {
      "text/plain": [
       "100"
      ]
     },
     "execution_count": 2,
     "metadata": {},
     "output_type": "execute_result"
    }
   ],
   "source": [
    "getattr(player1, \"health\")"
   ]
  },
  {
   "cell_type": "code",
   "execution_count": 3,
   "id": "62c305f9-c345-48ce-a63d-3ba22d672eb4",
   "metadata": {},
   "outputs": [
    {
     "data": {
      "text/plain": [
       "True"
      ]
     },
     "execution_count": 3,
     "metadata": {},
     "output_type": "execute_result"
    }
   ],
   "source": [
    "hasattr(player1, \"health\")"
   ]
  },
  {
   "cell_type": "code",
   "execution_count": 4,
   "id": "02a915e9-8f89-4ab3-9a24-ca75d0ccaace",
   "metadata": {},
   "outputs": [
    {
     "data": {
      "text/plain": [
       "False"
      ]
     },
     "execution_count": 4,
     "metadata": {},
     "output_type": "execute_result"
    }
   ],
   "source": [
    "hasattr(player1, \"shit\")"
   ]
  },
  {
   "cell_type": "code",
   "execution_count": 5,
   "id": "dd6331eb-8107-4eef-b5ce-d9645694b286",
   "metadata": {},
   "outputs": [
    {
     "ename": "AttributeError",
     "evalue": "'CSGO' object has no attribute 'shit'",
     "output_type": "error",
     "traceback": [
      "\u001b[0;31m--------------------------------------------------\u001b[0m",
      "\u001b[0;31mAttributeError\u001b[0m   Traceback (most recent call last)",
      "\u001b[0;32m<ipython-input-5-a2d4ed199c3a>\u001b[0m in \u001b[0;36m<module>\u001b[0;34m\u001b[0m\n\u001b[0;32m----> 1\u001b[0;31m \u001b[0mgetattr\u001b[0m\u001b[0;34m(\u001b[0m\u001b[0mplayer1\u001b[0m\u001b[0;34m,\u001b[0m \u001b[0;34m\"shit\"\u001b[0m\u001b[0;34m)\u001b[0m\u001b[0;34m\u001b[0m\u001b[0;34m\u001b[0m\u001b[0m\n\u001b[0m",
      "\u001b[0;31mAttributeError\u001b[0m: 'CSGO' object has no attribute 'shit'"
     ]
    }
   ],
   "source": [
    "getattr(player1, \"shit\")"
   ]
  },
  {
   "cell_type": "code",
   "execution_count": 6,
   "id": "9997512c-5be1-42dd-9973-224b20e24830",
   "metadata": {},
   "outputs": [
    {
     "data": {
      "text/plain": [
       "'fuck!'"
      ]
     },
     "execution_count": 6,
     "metadata": {},
     "output_type": "execute_result"
    }
   ],
   "source": [
    "getattr(player1, \"shit\", \"fuck!\")"
   ]
  },
  {
   "cell_type": "code",
   "execution_count": 7,
   "id": "30957d48-f241-4568-b043-5e8f843f74e2",
   "metadata": {},
   "outputs": [],
   "source": [
    "setattr(player1, \"health\", 100)"
   ]
  },
  {
   "cell_type": "code",
   "execution_count": 8,
   "id": "7fe3e52f-fec7-4544-bc0d-d4f0fe6eeda7",
   "metadata": {},
   "outputs": [
    {
     "data": {
      "text/plain": [
       "100"
      ]
     },
     "execution_count": 8,
     "metadata": {},
     "output_type": "execute_result"
    }
   ],
   "source": [
    "getattr(player1, \"health\")"
   ]
  },
  {
   "cell_type": "code",
   "execution_count": 9,
   "id": "68e852a2-cf26-48ff-8f60-36c06ec42b6a",
   "metadata": {},
   "outputs": [],
   "source": [
    "delattr(player1, \"health\")"
   ]
  },
  {
   "cell_type": "code",
   "execution_count": 10,
   "id": "03ff00d1-d809-4549-8e94-c9df2cf119a8",
   "metadata": {},
   "outputs": [
    {
     "data": {
      "text/plain": [
       "False"
      ]
     },
     "execution_count": 10,
     "metadata": {},
     "output_type": "execute_result"
    }
   ],
   "source": [
    "hasattr(player1, \"health\")"
   ]
  },
  {
   "cell_type": "code",
   "execution_count": 11,
   "id": "91e6b0ab-bbc3-45c6-946e-9adb78646059",
   "metadata": {},
   "outputs": [
    {
     "ename": "TypeError",
     "evalue": "hasattr expected 2 arguments, got 3",
     "output_type": "error",
     "traceback": [
      "\u001b[0;31m--------------------------------------------------\u001b[0m",
      "\u001b[0;31mTypeError\u001b[0m        Traceback (most recent call last)",
      "\u001b[0;32m<ipython-input-11-2b1a00c569c7>\u001b[0m in \u001b[0;36m<module>\u001b[0;34m\u001b[0m\n\u001b[0;32m----> 1\u001b[0;31m \u001b[0mhasattr\u001b[0m\u001b[0;34m(\u001b[0m\u001b[0mplayer1\u001b[0m\u001b[0;34m,\u001b[0m \u001b[0;34m\"health\"\u001b[0m\u001b[0;34m,\u001b[0m \u001b[0;34m\"what?\"\u001b[0m\u001b[0;34m)\u001b[0m\u001b[0;34m\u001b[0m\u001b[0;34m\u001b[0m\u001b[0m\n\u001b[0m",
      "\u001b[0;31mTypeError\u001b[0m: hasattr expected 2 arguments, got 3"
     ]
    }
   ],
   "source": [
    "hasattr(player1, \"health\", \"what?\")"
   ]
  },
  {
   "cell_type": "code",
   "execution_count": null,
   "id": "2402b3f0-5323-49d2-a768-9b7b1ac15231",
   "metadata": {},
   "outputs": [],
   "source": []
  }
 ],
 "metadata": {
  "kernelspec": {
   "display_name": "Python 3",
   "language": "python",
   "name": "python3"
  },
  "language_info": {
   "codemirror_mode": {
    "name": "ipython",
    "version": 3
   },
   "file_extension": ".py",
   "mimetype": "text/x-python",
   "name": "python",
   "nbconvert_exporter": "python",
   "pygments_lexer": "ipython3",
   "version": "3.9.1"
  }
 },
 "nbformat": 4,
 "nbformat_minor": 5
}

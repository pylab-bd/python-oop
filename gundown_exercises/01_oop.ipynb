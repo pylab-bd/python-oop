{
 "cells": [
  {
   "cell_type": "code",
   "execution_count": 1,
   "id": "e7be9d38-6802-4a03-bbfd-c10be5200058",
   "metadata": {},
   "outputs": [],
   "source": [
    "class Car:\n",
    "    name = \"\" # Class level variable\n",
    "    \n",
    "    def __init__(self, name: str, wheels: int) -> None:\n",
    "        print(\"Initialising class\")\n",
    "        self.name = name\n",
    "        self.wheels = wheels\n",
    "        \n",
    "    #methods\n",
    "    def horn(self):\n",
    "        print(\"H0rn!!\")\n",
    "    \n",
    "    def number_of_wheels(self):\n",
    "        print('number of wheels')\n",
    "        print(self.wheels)"
   ]
  },
  {
   "cell_type": "code",
   "execution_count": 2,
   "id": "b6fb1059-e0d8-48e1-bd5e-93cc88702f1b",
   "metadata": {},
   "outputs": [
    {
     "ename": "TypeError",
     "evalue": "__init__() missing 2 required positional arguments: 'name' and 'wheels'",
     "output_type": "error",
     "traceback": [
      "\u001b[0;31m--------------------------------------------------\u001b[0m",
      "\u001b[0;31mTypeError\u001b[0m        Traceback (most recent call last)",
      "\u001b[0;32m<ipython-input-2-691cba71db86>\u001b[0m in \u001b[0;36m<module>\u001b[0;34m\u001b[0m\n\u001b[0;32m----> 1\u001b[0;31m \u001b[0mc\u001b[0m \u001b[0;34m=\u001b[0m \u001b[0mCar\u001b[0m\u001b[0;34m(\u001b[0m\u001b[0;34m)\u001b[0m\u001b[0;34m\u001b[0m\u001b[0;34m\u001b[0m\u001b[0m\n\u001b[0m",
      "\u001b[0;31mTypeError\u001b[0m: __init__() missing 2 required positional arguments: 'name' and 'wheels'"
     ]
    }
   ],
   "source": [
    "c = Car()"
   ]
  },
  {
   "cell_type": "code",
   "execution_count": 3,
   "id": "c5b1d6e7-6ffb-48ff-9355-2fa264809026",
   "metadata": {},
   "outputs": [
    {
     "name": "stdout",
     "output_type": "stream",
     "text": [
      "Initialising class\n"
     ]
    }
   ],
   "source": [
    "c = Car(\"Honda CBR\", 2)"
   ]
  },
  {
   "cell_type": "code",
   "execution_count": 4,
   "id": "0e535017-a04b-4f75-8a7e-1f610cefd3d3",
   "metadata": {},
   "outputs": [
    {
     "data": {
      "text/plain": [
       "'Honda CBR'"
      ]
     },
     "execution_count": 4,
     "metadata": {},
     "output_type": "execute_result"
    }
   ],
   "source": [
    "c.name"
   ]
  },
  {
   "cell_type": "code",
   "execution_count": 5,
   "id": "45ed6ed7-e431-4acf-abb7-c9ee948a1945",
   "metadata": {},
   "outputs": [
    {
     "data": {
      "text/plain": [
       "''"
      ]
     },
     "execution_count": 5,
     "metadata": {},
     "output_type": "execute_result"
    }
   ],
   "source": [
    "Car.name"
   ]
  },
  {
   "cell_type": "code",
   "execution_count": 6,
   "id": "4ba84812-4b8d-4f19-abfb-0002a94e2cca",
   "metadata": {},
   "outputs": [
    {
     "ename": "NameError",
     "evalue": "name 'car' is not defined",
     "output_type": "error",
     "traceback": [
      "\u001b[0;31m--------------------------------------------------\u001b[0m",
      "\u001b[0;31mNameError\u001b[0m        Traceback (most recent call last)",
      "\u001b[0;32m<ipython-input-6-3890778f9159>\u001b[0m in \u001b[0;36m<module>\u001b[0;34m\u001b[0m\n\u001b[0;32m----> 1\u001b[0;31m \u001b[0mcar\u001b[0m\u001b[0;34m.\u001b[0m\u001b[0munknown_stuff\u001b[0m\u001b[0;34m\u001b[0m\u001b[0;34m\u001b[0m\u001b[0m\n\u001b[0m",
      "\u001b[0;31mNameError\u001b[0m: name 'car' is not defined"
     ]
    }
   ],
   "source": [
    "car.unknown_stuff"
   ]
  },
  {
   "cell_type": "code",
   "execution_count": 7,
   "id": "3d64a011-ef74-4779-940c-1eedad6066a9",
   "metadata": {},
   "outputs": [
    {
     "ename": "AttributeError",
     "evalue": "type object 'Car' has no attribute 'unknown_stuff'",
     "output_type": "error",
     "traceback": [
      "\u001b[0;31m--------------------------------------------------\u001b[0m",
      "\u001b[0;31mAttributeError\u001b[0m   Traceback (most recent call last)",
      "\u001b[0;32m<ipython-input-7-4bae29057be6>\u001b[0m in \u001b[0;36m<module>\u001b[0;34m\u001b[0m\n\u001b[0;32m----> 1\u001b[0;31m \u001b[0mCar\u001b[0m\u001b[0;34m.\u001b[0m\u001b[0munknown_stuff\u001b[0m\u001b[0;34m\u001b[0m\u001b[0;34m\u001b[0m\u001b[0m\n\u001b[0m",
      "\u001b[0;31mAttributeError\u001b[0m: type object 'Car' has no attribute 'unknown_stuff'"
     ]
    }
   ],
   "source": [
    "Car.unknown_stuff"
   ]
  },
  {
   "cell_type": "code",
   "execution_count": null,
   "id": "f2ab6ebe-6d1a-4da1-a59c-78c2a93765b2",
   "metadata": {},
   "outputs": [],
   "source": []
  }
 ],
 "metadata": {
  "kernelspec": {
   "display_name": "Python 3",
   "language": "python",
   "name": "python3"
  },
  "language_info": {
   "codemirror_mode": {
    "name": "ipython",
    "version": 3
   },
   "file_extension": ".py",
   "mimetype": "text/x-python",
   "name": "python",
   "nbconvert_exporter": "python",
   "pygments_lexer": "ipython3",
   "version": "3.9.1"
  }
 },
 "nbformat": 4,
 "nbformat_minor": 5
}

{
 "cells": [
  {
   "cell_type": "code",
   "execution_count": 2,
   "id": "e96aa879-87c0-4b73-8971-bb52b782e846",
   "metadata": {},
   "outputs": [
    {
     "name": "stdout",
     "output_type": "stream",
     "text": [
      "welcome to lobby\n",
      "Entering the match\n",
      "Enteer the the agent u want to pick\n"
     ]
    },
    {
     "name": "stdin",
     "output_type": "stream",
     "text": [
      " Me\n"
     ]
    },
    {
     "name": "stdout",
     "output_type": "stream",
     "text": [
      "Enter the Gun u want to buy\n"
     ]
    },
    {
     "name": "stdin",
     "output_type": "stream",
     "text": [
      " m5\n"
     ]
    },
    {
     "name": "stdout",
     "output_type": "stream",
     "text": [
      "Me\n",
      "m5\n",
      "100\n"
     ]
    }
   ],
   "source": [
    "class Valorant:\n",
    "      \"\"\"\n",
    "      Valorant class this class has attributes as health agent gun\n",
    "      \"\"\"\n",
    "      def __init__(self):\n",
    "            print(\"welcome to lobby\")\n",
    "            self.health=100\n",
    "      def GetReady(self):\n",
    "            print(\"Entering the match\")\n",
    "            print(\"Enteer the the agent u want to pick\")\n",
    "            self.agent=input()\n",
    "      def BuyGun(self):\n",
    "            print(\"Enter the Gun u want to buy\")\n",
    "            self.gun=input()\n",
    "      def UseUltimate(self):\n",
    "            print(\"Ultimate Attack!!!\")\n",
    "      def display(self):\n",
    "            print(self.agent)\n",
    "            print(self.gun)\n",
    "            print(self.health)\n",
    "      \n",
    "\"\"\"\n",
    "apart from some attributes like getattr and hasattr there are some usefull builtin attributes\n",
    "which can be useful during solving problems they are\n",
    "\"\"\"\n",
    "player1=Valorant()\n",
    "player1.GetReady()\n",
    "player1.BuyGun()\n",
    "player1.display()\n"
   ]
  },
  {
   "cell_type": "code",
   "execution_count": 3,
   "id": "bfad5fd5-876a-43fa-8f54-a295362a207c",
   "metadata": {},
   "outputs": [
    {
     "name": "stdout",
     "output_type": "stream",
     "text": [
      "\n",
      "      Valorant class this class has attributes as health agent gun\n",
      "       \n",
      "\n"
     ]
    }
   ],
   "source": [
    "print(player1.__doc__, \"\\n\")"
   ]
  },
  {
   "cell_type": "code",
   "execution_count": 4,
   "id": "113f21d7-d234-488b-a49d-047edc0430fc",
   "metadata": {},
   "outputs": [
    {
     "name": "stdout",
     "output_type": "stream",
     "text": [
      "Valorant\n"
     ]
    }
   ],
   "source": [
    "print(Valorant.__name__, )"
   ]
  },
  {
   "cell_type": "code",
   "execution_count": 5,
   "id": "0c70e666-f4af-4fcd-849e-02cdb9d3e054",
   "metadata": {},
   "outputs": [
    {
     "data": {
      "text/plain": [
       "mappingproxy({'__module__': '__main__',\n",
       "              '__doc__': '\\n      Valorant class this class has attributes as health agent gun\\n      ',\n",
       "              '__init__': <function __main__.Valorant.__init__(self)>,\n",
       "              'GetReady': <function __main__.Valorant.GetReady(self)>,\n",
       "              'BuyGun': <function __main__.Valorant.BuyGun(self)>,\n",
       "              'UseUltimate': <function __main__.Valorant.UseUltimate(self)>,\n",
       "              'display': <function __main__.Valorant.display(self)>,\n",
       "              '__dict__': <attribute '__dict__' of 'Valorant' objects>,\n",
       "              '__weakref__': <attribute '__weakref__' of 'Valorant' objects>})"
      ]
     },
     "execution_count": 5,
     "metadata": {},
     "output_type": "execute_result"
    }
   ],
   "source": [
    "Valorant.__dict__"
   ]
  },
  {
   "cell_type": "code",
   "execution_count": 6,
   "id": "12a39354-dc63-453b-91c6-8bf819d7f09a",
   "metadata": {},
   "outputs": [
    {
     "data": {
      "text/plain": [
       "<attribute '__weakref__' of 'Valorant' objects>"
      ]
     },
     "execution_count": 6,
     "metadata": {},
     "output_type": "execute_result"
    }
   ],
   "source": [
    "Valorant.__weakref__"
   ]
  },
  {
   "cell_type": "code",
   "execution_count": 7,
   "id": "fa7e8420-daa2-42fc-b522-411be3c6d05b",
   "metadata": {},
   "outputs": [
    {
     "data": {
      "text/plain": [
       "(object,)"
      ]
     },
     "execution_count": 7,
     "metadata": {},
     "output_type": "execute_result"
    }
   ],
   "source": [
    "Valorant.__bases__"
   ]
  },
  {
   "cell_type": "code",
   "execution_count": 8,
   "id": "02c347e0-52db-4f11-a5c2-a541170bf3af",
   "metadata": {},
   "outputs": [
    {
     "data": {
      "text/plain": [
       "'__main__'"
      ]
     },
     "execution_count": 8,
     "metadata": {},
     "output_type": "execute_result"
    }
   ],
   "source": [
    "player1.__module__"
   ]
  },
  {
   "cell_type": "code",
   "execution_count": null,
   "id": "1c6e3c71-28cd-4826-886d-85c13f4cff61",
   "metadata": {},
   "outputs": [],
   "source": []
  }
 ],
 "metadata": {
  "kernelspec": {
   "display_name": "Python 3",
   "language": "python",
   "name": "python3"
  },
  "language_info": {
   "codemirror_mode": {
    "name": "ipython",
    "version": 3
   },
   "file_extension": ".py",
   "mimetype": "text/x-python",
   "name": "python",
   "nbconvert_exporter": "python",
   "pygments_lexer": "ipython3",
   "version": "3.9.1"
  }
 },
 "nbformat": 4,
 "nbformat_minor": 5
}
